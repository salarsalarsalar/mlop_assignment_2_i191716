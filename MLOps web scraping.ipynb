{
 "cells": [
  {
   "cell_type": "code",
   "execution_count": 1,
   "metadata": {},
   "outputs": [],
   "source": [
    "from selenium import webdriver\n",
    "from selenium.webdriver.support.ui import Select\n",
    "from selenium.webdriver.chrome.service import Service\n",
    "from selenium.webdriver.chrome.options import Options\n",
    "from selenium.webdriver.common.by import By\n",
    "from selenium.webdriver.support.ui import WebDriverWait\n",
    "from selenium.webdriver.support import expected_conditions as EC\n",
    "from selenium.webdriver.common.by import By\n",
    "from selenium.webdriver.common.action_chains import ActionChains\n",
    "from selenium.webdriver.support import expected_conditions\n",
    "from selenium.webdriver.support.wait import WebDriverWait\n",
    "from selenium.webdriver.common.keys import Keys\n",
    "from selenium.webdriver.common.desired_capabilities import DesiredCapabilities\n",
    "from webdriver_manager.chrome import ChromeDriverManager\n",
    "\n",
    "import numpy as np\n",
    "import pandas as pd\n",
    "import time"
   ]
  },
  {
   "cell_type": "code",
   "execution_count": 10,
   "metadata": {
    "vscode": {
     "languageId": "javascript"
    }
   },
   "outputs": [],
   "source": [
    "sources = ['https://www.bbc.com/' , 'https://www.dawn.com/']"
   ]
  },
  {
   "cell_type": "markdown",
   "metadata": {},
   "source": [
    "## BBC web scraping"
   ]
  },
  {
   "cell_type": "markdown",
   "metadata": {},
   "source": [
    "### Xpath"
   ]
  },
  {
   "cell_type": "code",
   "execution_count": 8,
   "metadata": {},
   "outputs": [
    {
     "data": {
      "text/plain": [
       "'//article[@class=\"sc-9636e898-0 dYtsiK\"]'"
      ]
     },
     "execution_count": 8,
     "metadata": {},
     "output_type": "execute_result"
    }
   ],
   "source": [
    "'//article[@class=\"sc-9636e898-0 dYtsiK\"]'"
   ]
  },
  {
   "cell_type": "markdown",
   "metadata": {},
   "source": [
    "### Code"
   ]
  },
  {
   "cell_type": "code",
   "execution_count": 15,
   "metadata": {},
   "outputs": [],
   "source": [
    "Bbc_url = sources[0]\n",
    "Bbc_url\n",
    "\n",
    "# Initialize WebDriver and open the URL\n",
    "driver = webdriver.Chrome()\n",
    "driver.get(Bbc_url)\n"
   ]
  },
  {
   "cell_type": "markdown",
   "metadata": {},
   "source": [
    "## Dawn web scraping\n"
   ]
  },
  {
   "cell_type": "markdown",
   "metadata": {},
   "source": [
    "### Xpath"
   ]
  },
  {
   "cell_type": "code",
   "execution_count": 9,
   "metadata": {},
   "outputs": [
    {
     "data": {
      "text/plain": [
       "'//div[@class=\"flex flex-col sm:flex-row\"]'"
      ]
     },
     "execution_count": 9,
     "metadata": {},
     "output_type": "execute_result"
    }
   ],
   "source": [
    "'//div[@class=\"flex flex-col sm:flex-row\"]'"
   ]
  },
  {
   "cell_type": "markdown",
   "metadata": {},
   "source": [
    "### Code"
   ]
  },
  {
   "cell_type": "code",
   "execution_count": 23,
   "metadata": {},
   "outputs": [
    {
     "data": {
      "text/plain": [
       "[<selenium.webdriver.remote.webelement.WebElement (session=\"f0bcc1d6733a6db126239acf0dab0db6\", element=\"f.C332602732E23A386038C12BFB5E8006.d.F8E748AF85E0334E528FD2965D9A6ADA.e.48\")>,\n",
       " <selenium.webdriver.remote.webelement.WebElement (session=\"f0bcc1d6733a6db126239acf0dab0db6\", element=\"f.C332602732E23A386038C12BFB5E8006.d.F8E748AF85E0334E528FD2965D9A6ADA.e.49\")>,\n",
       " <selenium.webdriver.remote.webelement.WebElement (session=\"f0bcc1d6733a6db126239acf0dab0db6\", element=\"f.C332602732E23A386038C12BFB5E8006.d.F8E748AF85E0334E528FD2965D9A6ADA.e.2\")>,\n",
       " <selenium.webdriver.remote.webelement.WebElement (session=\"f0bcc1d6733a6db126239acf0dab0db6\", element=\"f.C332602732E23A386038C12BFB5E8006.d.F8E748AF85E0334E528FD2965D9A6ADA.e.50\")>,\n",
       " <selenium.webdriver.remote.webelement.WebElement (session=\"f0bcc1d6733a6db126239acf0dab0db6\", element=\"f.C332602732E23A386038C12BFB5E8006.d.F8E748AF85E0334E528FD2965D9A6ADA.e.51\")>,\n",
       " <selenium.webdriver.remote.webelement.WebElement (session=\"f0bcc1d6733a6db126239acf0dab0db6\", element=\"f.C332602732E23A386038C12BFB5E8006.d.F8E748AF85E0334E528FD2965D9A6ADA.e.52\")>]"
      ]
     },
     "execution_count": 23,
     "metadata": {},
     "output_type": "execute_result"
    }
   ],
   "source": [
    "Dawn_url = sources[1]\n",
    "Dawn_url\n",
    "\n",
    "# Initialize WebDriver and open the URL\n",
    "driver = webdriver.Chrome()\n",
    "driver.get(Dawn_url)\n",
    "\n",
    "\n",
    "main = driver.find_element(By.XPATH,'//div[@class=\"flex flex-col sm:flex-row\"]')\n",
    "child = main.find_elements(By.XPATH,\".//*\")\n",
    "child\n",
    "\n",
    "child_class = child[0].get_attribute(\"class\")\n",
    "a = child[1].find_elements(By.XPATH,\".//*\")\n"
   ]
  },
  {
   "cell_type": "code",
   "execution_count": 25,
   "metadata": {},
   "outputs": [
    {
     "ename": "AttributeError",
     "evalue": "'NoneType' object has no attribute 'text'",
     "output_type": "error",
     "traceback": [
      "\u001b[1;31m---------------------------------------------------------------------------\u001b[0m",
      "\u001b[1;31mAttributeError\u001b[0m                            Traceback (most recent call last)",
      "\u001b[1;32m<ipython-input-25-c80503ffeda2>\u001b[0m in \u001b[0;36m<module>\u001b[1;34m\u001b[0m\n\u001b[0;32m     24\u001b[0m \u001b[1;33m\u001b[0m\u001b[0m\n\u001b[0;32m     25\u001b[0m \u001b[1;31m# Example usage\u001b[0m\u001b[1;33m\u001b[0m\u001b[1;33m\u001b[0m\u001b[1;33m\u001b[0m\u001b[0m\n\u001b[1;32m---> 26\u001b[1;33m \u001b[0mdawn_links\u001b[0m\u001b[1;33m,\u001b[0m \u001b[0mdawn_articles\u001b[0m \u001b[1;33m=\u001b[0m \u001b[0mscrape_website\u001b[0m\u001b[1;33m(\u001b[0m\u001b[1;34m'https://www.dawn.com'\u001b[0m\u001b[1;33m)\u001b[0m\u001b[1;33m\u001b[0m\u001b[1;33m\u001b[0m\u001b[0m\n\u001b[0m\u001b[0;32m     27\u001b[0m \u001b[0mbbc_links\u001b[0m\u001b[1;33m,\u001b[0m \u001b[0mbbc_articles\u001b[0m \u001b[1;33m=\u001b[0m \u001b[0mscrape_website\u001b[0m\u001b[1;33m(\u001b[0m\u001b[1;34m'https://www.bbc.com'\u001b[0m\u001b[1;33m)\u001b[0m\u001b[1;33m\u001b[0m\u001b[1;33m\u001b[0m\u001b[0m\n\u001b[0;32m     28\u001b[0m \u001b[1;33m\u001b[0m\u001b[0m\n",
      "\u001b[1;32m<ipython-input-25-c80503ffeda2>\u001b[0m in \u001b[0;36mscrape_website\u001b[1;34m(url)\u001b[0m\n\u001b[0;32m     18\u001b[0m     \u001b[1;32mfor\u001b[0m \u001b[0marticle\u001b[0m \u001b[1;32min\u001b[0m \u001b[0marticles\u001b[0m\u001b[1;33m:\u001b[0m\u001b[1;33m\u001b[0m\u001b[1;33m\u001b[0m\u001b[0m\n\u001b[0;32m     19\u001b[0m         \u001b[0mtitle\u001b[0m \u001b[1;33m=\u001b[0m \u001b[0marticle\u001b[0m\u001b[1;33m.\u001b[0m\u001b[0mfind\u001b[0m\u001b[1;33m(\u001b[0m\u001b[1;34m'h2'\u001b[0m\u001b[1;33m)\u001b[0m\u001b[1;33m.\u001b[0m\u001b[0mtext\u001b[0m\u001b[1;33m.\u001b[0m\u001b[0mstrip\u001b[0m\u001b[1;33m(\u001b[0m\u001b[1;33m)\u001b[0m\u001b[1;33m\u001b[0m\u001b[1;33m\u001b[0m\u001b[0m\n\u001b[1;32m---> 20\u001b[1;33m         \u001b[0mdescription\u001b[0m \u001b[1;33m=\u001b[0m \u001b[0marticle\u001b[0m\u001b[1;33m.\u001b[0m\u001b[0mfind\u001b[0m\u001b[1;33m(\u001b[0m\u001b[1;34m'p'\u001b[0m\u001b[1;33m)\u001b[0m\u001b[1;33m.\u001b[0m\u001b[0mtext\u001b[0m\u001b[1;33m.\u001b[0m\u001b[0mstrip\u001b[0m\u001b[1;33m(\u001b[0m\u001b[1;33m)\u001b[0m\u001b[1;33m\u001b[0m\u001b[1;33m\u001b[0m\u001b[0m\n\u001b[0m\u001b[0;32m     21\u001b[0m         \u001b[0marticles_data\u001b[0m\u001b[1;33m.\u001b[0m\u001b[0mappend\u001b[0m\u001b[1;33m(\u001b[0m\u001b[1;33m{\u001b[0m\u001b[1;34m'title'\u001b[0m\u001b[1;33m:\u001b[0m \u001b[0mtitle\u001b[0m\u001b[1;33m,\u001b[0m \u001b[1;34m'description'\u001b[0m\u001b[1;33m:\u001b[0m \u001b[0mdescription\u001b[0m\u001b[1;33m}\u001b[0m\u001b[1;33m)\u001b[0m\u001b[1;33m\u001b[0m\u001b[1;33m\u001b[0m\u001b[0m\n\u001b[0;32m     22\u001b[0m \u001b[1;33m\u001b[0m\u001b[0m\n",
      "\u001b[1;31mAttributeError\u001b[0m: 'NoneType' object has no attribute 'text'"
     ]
    }
   ],
   "source": [
    "import requests\n",
    "from bs4 import BeautifulSoup\n",
    "\n",
    "# Function to scrape links, titles, and descriptions\n",
    "def scrape_website(url):\n",
    "    # Send a GET request to the URL\n",
    "    response = requests.get(url)\n",
    "    \n",
    "    # Parse the HTML content\n",
    "    soup = BeautifulSoup(response.text, 'html.parser')\n",
    "    \n",
    "    # Extract links\n",
    "    links = [link.get('href') for link in soup.find_all('a')]\n",
    "    \n",
    "    # Extract titles and descriptions from articles\n",
    "    articles = soup.find_all('article')\n",
    "    articles_data = []\n",
    "    for article in articles:\n",
    "        title = article.find('h2').text.strip()\n",
    "        description = article.find('p').text.strip()\n",
    "        articles_data.append({'title': title, 'description': description})\n",
    "    \n",
    "    return links, articles_data\n",
    "\n",
    "# Example usage\n",
    "dawn_links, dawn_articles = scrape_website('https://www.dawn.com')\n",
    "bbc_links, bbc_articles = scrape_website('https://www.bbc.com')\n",
    "\n",
    "print(\"Dawn Links:\", dawn_links)\n",
    "print(\"Dawn Articles:\", dawn_articles)\n",
    "\n",
    "print(\"BBC Links:\", bbc_links)\n",
    "print(\"BBC Articles:\", bbc_articles)\n"
   ]
  }
 ],
 "metadata": {
  "kernelspec": {
   "display_name": "Python 3",
   "language": "python",
   "name": "python3"
  },
  "language_info": {
   "codemirror_mode": {
    "name": "ipython",
    "version": 3
   },
   "file_extension": ".py",
   "mimetype": "text/x-python",
   "name": "python",
   "nbconvert_exporter": "python",
   "pygments_lexer": "ipython3",
   "version": "3.8.8"
  }
 },
 "nbformat": 4,
 "nbformat_minor": 2
}
